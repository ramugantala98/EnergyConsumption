{
 "cells": [
  {
   "cell_type": "code",
   "execution_count": 27,
   "id": "8d3bb416",
   "metadata": {},
   "outputs": [
    {
     "name": "stdout",
     "output_type": "stream",
     "text": [
      "6\n",
      "[range(0, 3)]\n"
     ]
    }
   ],
   "source": [
    "lit_ = [1,2,3]\n",
    "print(sum(lit_))\n",
    "print([range(0,len(lit_))])"
   ]
  },
  {
   "cell_type": "code",
   "execution_count": 24,
   "id": "3724bba3",
   "metadata": {},
   "outputs": [
    {
     "name": "stdout",
     "output_type": "stream",
     "text": [
      "[0, 1, 2]\n"
     ]
    }
   ],
   "source": [
    "my_list = list(range(0, 3))\n",
    "print(my_list)"
   ]
  },
  {
   "cell_type": "code",
   "execution_count": 30,
   "id": "c8b3a3ae",
   "metadata": {},
   "outputs": [],
   "source": [
    "j = []\n",
    "k = [3,3]\n",
    "sum(k)\n",
    "j.extend(list(range(0,len(k))))"
   ]
  },
  {
   "cell_type": "code",
   "execution_count": 32,
   "id": "a6e55cf6",
   "metadata": {},
   "outputs": [
    {
     "data": {
      "text/plain": [
       "[3, 3]"
      ]
     },
     "execution_count": 32,
     "metadata": {},
     "output_type": "execute_result"
    }
   ],
   "source": [
    "k"
   ]
  },
  {
   "cell_type": "code",
   "execution_count": 34,
   "id": "716acdf5",
   "metadata": {},
   "outputs": [
    {
     "data": {
      "text/plain": [
       "0"
      ]
     },
     "execution_count": 34,
     "metadata": {},
     "output_type": "execute_result"
    }
   ],
   "source": [
    "k.index(3)"
   ]
  },
  {
   "cell_type": "code",
   "execution_count": 38,
   "id": "f35ff1f4",
   "metadata": {},
   "outputs": [
    {
     "name": "stdout",
     "output_type": "stream",
     "text": [
      "[0, 2]\n"
     ]
    }
   ],
   "source": [
    "\n",
    "nums = [3,2,3]\n",
    "print([g for g, val in enumerate(nums) if val == 3])"
   ]
  },
  {
   "cell_type": "code",
   "execution_count": null,
   "id": "de3ebfe0",
   "metadata": {},
   "outputs": [
    {
     "name": "stdout",
     "output_type": "stream",
     "text": [
      "1\n",
      "2\n",
      "3\n",
      "The list is empty.\n"
     ]
    }
   ],
   "source": [
    "# Assuming a ListNode class is defined, for example:\n",
    "class ListNode:\n",
    "    def __init__(self, val=0, next=None):\n",
    "        self.val = val\n",
    "        self.next = next\n",
    "\n",
    "from typing import Optional\n",
    "\n",
    "def print_list(head: Optional[ListNode]) -> None:\n",
    "    # First, check if the head is not None\n",
    "    if head:  # Equivalent to: if head is not None:\n",
    "        # If it is not None, you can safely access its attributes\n",
    "        current_node = head\n",
    "        while current_node:\n",
    "            print(current_node.val)\n",
    "            current_node = current_node.next\n",
    "    else:\n",
    "        # Handle the case where the list is empty\n",
    "        print(\"The list is empty.\")\n",
    "\n",
    "\n"
   ]
  },
  {
   "cell_type": "code",
   "execution_count": 44,
   "id": "62f58d4d",
   "metadata": {},
   "outputs": [],
   "source": [
    " class ListNode:\n",
    "     def __init__(self, val=0, next=None):\n",
    "         self.val = val\n",
    "         self.next = next\n",
    "class Solution:\n",
    "    def addTwoNumbers(self, l1: Optional[ListNode], l2: Optional[ListNode]) -> Optional[ListNode]:\n",
    "        dummy_head = ListNode(0)\n",
    "        current = dummy_head\n",
    "        carry = 0\n",
    "        \n",
    "        while l1 or l2 or carry:\n",
    "            val1 = l1.val if l1 else 0\n",
    "            val2 = l2.val if l2 else 0\n",
    "            \n",
    "            total = val1 + val2 + carry\n",
    "            carry = total // 10\n",
    "            current.next = ListNode(total % 10)\n",
    "            current = current.next\n",
    "            \n",
    "            if l1:\n",
    "                l1 = l1.next\n",
    "            if l2:\n",
    "                l2 = l2.next\n",
    "        \n",
    "        return dummy_head.next"
   ]
  },
  {
   "cell_type": "code",
   "execution_count": 43,
   "id": "1d738782",
   "metadata": {},
   "outputs": [
    {
     "name": "stdout",
     "output_type": "stream",
     "text": [
      "2\n"
     ]
    },
    {
     "ename": "AttributeError",
     "evalue": "'int' object has no attribute 'val'",
     "output_type": "error",
     "traceback": [
      "\u001b[0;31m---------------------------------------------------------------------------\u001b[0m",
      "\u001b[0;31mAttributeError\u001b[0m                            Traceback (most recent call last)",
      "Cell \u001b[0;32mIn[43], line 7\u001b[0m\n\u001b[1;32m      4\u001b[0m node1 \u001b[38;5;241m=\u001b[39m ListNode(\u001b[38;5;241m1\u001b[39m, node2)\n\u001b[1;32m      6\u001b[0m \u001b[38;5;66;03m# Pass a valid ListNode object\u001b[39;00m\n\u001b[0;32m----> 7\u001b[0m print_list(ListNode(\u001b[38;5;241m2\u001b[39m,\u001b[38;5;241m3\u001b[39m))\n",
      "Cell \u001b[0;32mIn[39], line 15\u001b[0m, in \u001b[0;36mprint_list\u001b[0;34m(head)\u001b[0m\n\u001b[1;32m     13\u001b[0m     current_node \u001b[38;5;241m=\u001b[39m head\n\u001b[1;32m     14\u001b[0m     \u001b[38;5;28;01mwhile\u001b[39;00m current_node:\n\u001b[0;32m---> 15\u001b[0m         \u001b[38;5;28mprint\u001b[39m(current_node\u001b[38;5;241m.\u001b[39mval)\n\u001b[1;32m     16\u001b[0m         current_node \u001b[38;5;241m=\u001b[39m current_node\u001b[38;5;241m.\u001b[39mnext\n\u001b[1;32m     17\u001b[0m \u001b[38;5;28;01melse\u001b[39;00m:\n\u001b[1;32m     18\u001b[0m     \u001b[38;5;66;03m# Handle the case where the list is empty\u001b[39;00m\n",
      "\u001b[0;31mAttributeError\u001b[0m: 'int' object has no attribute 'val'"
     ]
    }
   ],
   "source": [
    "# Example usage:\n",
    "node3 = ListNode(3)\n",
    "node2 = ListNode(2, node3)\n",
    "node1 = ListNode(1, node2)\n",
    "\n",
    "# Pass a valid ListNode object\n",
    "print_list(ListNode(2,3))\n",
    "\n"
   ]
  },
  {
   "cell_type": "code",
   "execution_count": null,
   "id": "e8e4a50f",
   "metadata": {},
   "outputs": [
    {
     "ename": "AttributeError",
     "evalue": "'list' object has no attribute 'add'",
     "output_type": "error",
     "traceback": [
      "\u001b[0;31m---------------------------------------------------------------------------\u001b[0m",
      "\u001b[0;31mAttributeError\u001b[0m                            Traceback (most recent call last)",
      "Cell \u001b[0;32mIn[48], line 3\u001b[0m\n\u001b[1;32m      1\u001b[0m list1 \u001b[38;5;241m=\u001b[39m [\u001b[38;5;241m1\u001b[39m,\u001b[38;5;241m2\u001b[39m,\u001b[38;5;241m3\u001b[39m,\u001b[38;5;241m4\u001b[39m]\n\u001b[1;32m      2\u001b[0m list2 \u001b[38;5;241m=\u001b[39m [\u001b[38;5;241m5\u001b[39m,\u001b[38;5;241m6\u001b[39m,\u001b[38;5;241m7\u001b[39m,\u001b[38;5;241m8\u001b[39m]\n\u001b[0;32m----> 3\u001b[0m list1\u001b[38;5;241m.\u001b[39madd(list2)\n",
      "\u001b[0;31mAttributeError\u001b[0m: 'list' object has no attribute 'add'"
     ]
    }
   ],
   "source": [
    "list1 = [1,2,3,4]\n",
    "list2 = [5,6,7,8]"
   ]
  },
  {
   "cell_type": "code",
   "execution_count": 67,
   "id": "703a6a29",
   "metadata": {},
   "outputs": [
    {
     "data": {
      "text/plain": [
       "36"
      ]
     },
     "execution_count": 67,
     "metadata": {},
     "output_type": "execute_result"
    }
   ],
   "source": [
    "len(list(sorted([g for g  in list1+list2])))  # This will raise an error since list object has no attribute 'median'"
   ]
  },
  {
   "cell_type": "code",
   "execution_count": 91,
   "id": "e046b5d4",
   "metadata": {},
   "outputs": [
    {
     "name": "stdout",
     "output_type": "stream",
     "text": [
      "amu\n",
      "mu\n",
      "u\n",
      "\n"
     ]
    }
   ],
   "source": [
    "s = 'ramu'\n",
    "l = s\n",
    "for i in [g for g in s]:\n",
    "    l = l.replace(i,'')\n",
    "    print(l)"
   ]
  },
  {
   "cell_type": "code",
   "execution_count": 111,
   "id": "e74d9c52",
   "metadata": {},
   "outputs": [],
   "source": [
    "class Solution:\n",
    "    def longestPalindrome(self, s: str) -> str:\n",
    "        reversed = s[::-1]\n",
    "        s2 = reversed\n",
    "        if s == reversed:\n",
    "            return reversed\n",
    "        else:\n",
    "            for i in [g for g in reversed]:\n",
    "                s2 = s2[1:]\n",
    "                if s2 in s and len(s2)>1:\n",
    "                    return s2"
   ]
  },
  {
   "cell_type": "code",
   "execution_count": 112,
   "id": "23d01b85",
   "metadata": {},
   "outputs": [],
   "source": [
    "Solution.longestPalindrome(Solution,'cbbd')"
   ]
  },
  {
   "cell_type": "code",
   "execution_count": null,
   "id": "0643ffd0",
   "metadata": {},
   "outputs": [],
   "source": [
    "# Remove the last letter from a string\n",
    "def remove_last_letter(s: str) -> str:\n",
    "    return s[:-1] if s else s\n",
    "\n",
    "# Example usage:\n",
    "result = remove_last_letter(s)\n",
    "print(result)"
   ]
  },
  {
   "cell_type": "code",
   "execution_count": null,
   "id": "c3090e5a",
   "metadata": {},
   "outputs": [
    {
     "ename": "SyntaxError",
     "evalue": "invalid syntax (2550388345.py, line 1)",
     "output_type": "error",
     "traceback": [
      "\u001b[0;36m  Cell \u001b[0;32mIn[100], line 1\u001b[0;36m\u001b[0m\n\u001b[0;31m    remove last letter from a string\u001b[0m\n\u001b[0m           ^\u001b[0m\n\u001b[0;31mSyntaxError\u001b[0m\u001b[0;31m:\u001b[0m invalid syntax\n"
     ]
    }
   ],
   "source": [
    "#remove last letter from a string"
   ]
  },
  {
   "cell_type": "code",
   "execution_count": 113,
   "id": "05078785",
   "metadata": {},
   "outputs": [
    {
     "data": {
      "text/plain": [
       "'dbbc'"
      ]
     },
     "execution_count": 113,
     "metadata": {},
     "output_type": "execute_result"
    }
   ],
   "source": [
    "ltr = 'cbbd'\n",
    "ltr[::-1]"
   ]
  },
  {
   "cell_type": "code",
   "execution_count": null,
   "id": "c2b702ec",
   "metadata": {},
   "outputs": [],
   "source": []
  }
 ],
 "metadata": {
  "kernelspec": {
   "display_name": "base",
   "language": "python",
   "name": "python3"
  },
  "language_info": {
   "codemirror_mode": {
    "name": "ipython",
    "version": 3
   },
   "file_extension": ".py",
   "mimetype": "text/x-python",
   "name": "python",
   "nbconvert_exporter": "python",
   "pygments_lexer": "ipython3",
   "version": "3.12.7"
  }
 },
 "nbformat": 4,
 "nbformat_minor": 5
}
