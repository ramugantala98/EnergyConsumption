{
 "cells": [
  {
   "cell_type": "code",
   "execution_count": 9,
   "id": "eee4cc9b",
   "metadata": {},
   "outputs": [],
   "source": [
    "#data_prep.py\n",
    "import pandas as pd\n",
    "import numpy as np\n",
    "from sklearn.pipeline import Pipeline\n",
    "from sklearn.preprocessing import OneHotEncoder\n",
    "from sklearn.impute import SimpleImputer\n",
    "\n",
    "def load_data(path):\n",
    "    # adjust filename if different\n",
    "    df = pd.read_csv(path, parse_dates=['Timestamp'])\n",
    "    df = df.sort_values('Timestamp').reset_index(drop=True)\n",
    "    return df\n",
    "\n",
    "def basic_clean(df):\n",
    "    # lower-case column names\n",
    "    df.columns = [c.strip() for c in df.columns]\n",
    "    # ensure timestamp\n",
    "    if 'Timestamp' not in df.columns:\n",
    "        raise ValueError(\"Timestamp column missing\")\n",
    "    df = df.set_index('Timestamp').asfreq('h')  # assume hourly data; fills missing index\n",
    "    return df\n",
    "\n",
    "def feature_engineer(df):\n",
    "    df = df.copy()\n",
    "\n",
    "    # Try to identify the numeric target column\n",
    "    possible_targets = [c for c in df.columns if 'energy' in c.lower() or 'usage' in c.lower()]\n",
    "    if not possible_targets:\n",
    "        raise ValueError(\"No obvious target column found. Please specify one manually.\")\n",
    "    target_col = possible_targets[0]\n",
    "\n",
    "    # Ensure target column is numeric\n",
    "    df[target_col] = pd.to_numeric(df[target_col], errors='coerce')\n",
    "\n",
    "    # Drop rows where target is missing or invalid\n",
    "    df = df.dropna(subset=[target_col])\n",
    "\n",
    "    # Time-based features\n",
    "    df['hour'] = df.index.hour\n",
    "    df['dayofweek'] = df.index.dayofweek\n",
    "    df['month'] = df.index.month\n",
    "    df['is_weekend'] = df['dayofweek'].isin([5, 6]).astype(int)\n",
    "\n",
    "    # Optional weather features\n",
    "    if 'Temperature' in df.columns:\n",
    "        df['temp'] = pd.to_numeric(df['Temperature'], errors='coerce')\n",
    "    if 'Humidity' in df.columns:\n",
    "        df['humidity'] = pd.to_numeric(df['Humidity'], errors='coerce')\n",
    "\n",
    "    # Lag features (use safe numeric ops)\n",
    "    for lag in [1, 24, 168]:\n",
    "        df[f'lag_{lag}'] = df[target_col].shift(lag)\n",
    "\n",
    "    # Rolling statistics (safe numeric aggregation)\n",
    "    df['roll_24_mean'] = df[target_col].shift(1).rolling(window=24, min_periods=1).mean()\n",
    "    df['roll_24_std'] = df[target_col].shift(1).rolling(window=24, min_periods=1).std()\n",
    "\n",
    "    # One-hot for simple categories\n",
    "    df['hour_str'] = df['hour'].astype(str)\n",
    "\n",
    "    # Final cleanup\n",
    "    df = df.dropna(subset=[target_col, 'lag_1'])\n",
    "\n",
    "    print(f\"✅ Using target column: {target_col}\")\n",
    "    print(f\"✅ Data after feature engineering: {df.shape}\")\n",
    "\n",
    "    return df, target_col\n",
    "\n",
    "def get_train_val(df, val_hours=24*7):\n",
    "    # time-based split: last `val_hours` hours as validation\n",
    "    df = df.sort_index()\n",
    "    val_start = df.index.max() - pd.Timedelta(hours=val_hours)\n",
    "    train = df[df.index <= val_start].copy()\n",
    "    val = df[df.index > val_start].copy()\n",
    "    return train, val"
   ]
  },
  {
   "cell_type": "code",
   "execution_count": 10,
   "id": "41987321",
   "metadata": {},
   "outputs": [
    {
     "name": "stdout",
     "output_type": "stream",
     "text": [
      "✅ Using target column: HVACUsage\n",
      "✅ Data after feature engineering: (0, 22)\n"
     ]
    }
   ],
   "source": [
    "DATA_PATH = \"Energy_consumption.csv\"   # update with your dataset path\n",
    "\n",
    "# 1. Load and prepare data\n",
    "df = load_data(DATA_PATH)\n",
    "df = basic_clean(df)\n",
    "df, target_col = feature_engineer(df)\n"
   ]
  },
  {
   "cell_type": "code",
   "execution_count": null,
   "id": "e2a2bb8d",
   "metadata": {},
   "outputs": [],
   "source": []
  }
 ],
 "metadata": {
  "kernelspec": {
   "display_name": ".venv (3.13.1)",
   "language": "python",
   "name": "python3"
  },
  "language_info": {
   "codemirror_mode": {
    "name": "ipython",
    "version": 3
   },
   "file_extension": ".py",
   "mimetype": "text/x-python",
   "name": "python",
   "nbconvert_exporter": "python",
   "pygments_lexer": "ipython3",
   "version": "3.13.1"
  }
 },
 "nbformat": 4,
 "nbformat_minor": 5
}
